{
  "nbformat": 4,
  "nbformat_minor": 0,
  "metadata": {
    "colab": {
      "provenance": [],
      "authorship_tag": "ABX9TyNqGtbN3G06XSVODCftkC2E",
      "include_colab_link": true
    },
    "kernelspec": {
      "name": "python3",
      "display_name": "Python 3"
    },
    "language_info": {
      "name": "python"
    }
  },
  "cells": [
    {
      "cell_type": "markdown",
      "metadata": {
        "id": "view-in-github",
        "colab_type": "text"
      },
      "source": [
        "<a href=\"https://colab.research.google.com/github/carmitrey/google-colab-notebooks/blob/main/dns_get_dns_records_single_domain.ipynb\" target=\"_parent\"><img src=\"https://colab.research.google.com/assets/colab-badge.svg\" alt=\"Open In Colab\"/></a>"
      ]
    },
    {
      "cell_type": "code",
      "source": [
        "'''\n",
        "get_dns_records_single_domain.ipynb\n",
        "\n",
        "Intended to look up single domains and retrieve dns related information.\n",
        "Currently limited to TXT, DMARC, and MX records. \n",
        "\n",
        "Author: Carter Reynolds\n",
        "Github: https://github.com/carter-reynolds\n",
        "Date: 2/8/2023\n",
        "'''\n",
        "\n",
        "import dns.resolver as resolver\n",
        "import dns.name as name\n",
        "import dns.exception as exception\n",
        "\n",
        "\n",
        "def resolver_prepped():\n",
        "  # Literally just make a blank query so we can use better nameservers\n",
        "  try:\n",
        "    resolver.resolve(\"\")\n",
        "  except resolver.NoAnswer:\n",
        "    resolver.default_resolver.nameservers=['8.8.8.8']\n",
        "    return True\n",
        "  \n",
        "  # This shouldn't happen\n",
        "  return False\n",
        "\n",
        "\n",
        "def query_records(domain):\n",
        "\n",
        "  # Query for all 3 types\n",
        "  # If one comes back noAnswer, return no records found\n",
        "  record_types = [\"MX\",\"TXT\",\"DMARC\"]\n",
        "\n",
        "  for record_type in record_types:\n",
        "    print(f\"{record_type}:\")\n",
        "    try:\n",
        "\n",
        "      if record_type == \"DMARC\":\n",
        "        for record in resolver.resolve(\"_dmarc.\" + domain, \"TXT\"):\n",
        "          print(f\"  \\u21B3{record.to_text()}\")\n",
        "      else:\n",
        "        for record in resolver.resolve(domain, record_type):\n",
        "          print(f\"  \\u21B3{record.to_text()}\")\n",
        "    except resolver.NoAnswer:\n",
        "      print(\"  \\u21B3 No Records Found...\")\n",
        "      continue\n",
        "      \n",
        "  \n",
        "def main():\n",
        "\n",
        "  # Prompt user for domain\n",
        "  print(\"Type a domain below and press Enter/Return:\")\n",
        "  domain = input(\">> \") # Continues to 'try:' once Enter/Return is pressed\n",
        "\n",
        "  # Show domain submitted\n",
        "  print(\"-------------------------------------\")\n",
        "  print(f\"\\nDomain: {domain}\")\n",
        "  query_records(domain)\n",
        "\n",
        "\n",
        "def attempt():\n",
        "  # We need to prep our resolver\n",
        "  resolver_is_prepped = resolver_prepped()\n",
        "\n",
        "  if resolver_is_prepped:\n",
        "    try:\n",
        "      main()\n",
        "    except Exception as err:\n",
        "      print(err)\n",
        "  else:\n",
        "    # If resolver_prepped() returned False it means our nameserver did not get set\n",
        "    # Any queries to domains with larger numbers of records will probably timeout\n",
        "    print(\"Nameserver not set to 8.8.8.8. Attempting anyways.\")\n",
        "    main()\n",
        "\n",
        "# Start the script\n",
        "attempt()\n",
        "  \n",
        "\n"
      ],
      "metadata": {
        "id": "rfM76XX531bP"
      },
      "execution_count": null,
      "outputs": []
    }
  ]
}